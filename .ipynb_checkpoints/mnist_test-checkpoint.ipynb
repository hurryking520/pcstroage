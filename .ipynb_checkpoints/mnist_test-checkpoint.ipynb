{
 "cells": [
  {
   "cell_type": "code",
   "execution_count": 1,
   "metadata": {},
   "outputs": [],
   "source": [
    "import numpy as np\n",
    "import matplotlib.pyplot  as plt\n",
    "from pathlib import Path\n",
    "import struct\n",
    "import math\n"
   ]
  },
  {
   "cell_type": "code",
   "execution_count": 2,
   "metadata": {},
   "outputs": [],
   "source": [
    "train_img_path = \"image\\\\train-images.idx3-ubyte\"\n",
    "train_lab_path = 'image\\\\train-labels.idx1-ubyte'\n",
    "test_img_path = \"image\\\\t10k-images.idx3-ubyte\"\n",
    "test_lab_path = 'image\\\\t10k-labels.idx1-ubyte'\n",
    "\n",
    "\n",
    "train_img_f = open(train_img_path,'rb')\n",
    "train_lab_f = open(train_lab_path,'rb')\n",
    "test_img_f = open(test_img_path,'rb')\n",
    "test_lab_f = open(test_lab_path,'rb')"
   ]
  },
  {
   "cell_type": "code",
   "execution_count": 3,
   "metadata": {},
   "outputs": [
    {
     "name": "stdout",
     "output_type": "stream",
     "text": [
      "[7 2 1 ... 4 5 6]\n"
     ]
    }
   ],
   "source": [
    "struct.unpack('>4i',train_img_f.read(16))\n",
    "struct.unpack('>ii',train_lab_f.read(8))\n",
    "struct.unpack('>4i',test_img_f.read(16))\n",
    "struct.unpack('>ii',test_lab_f.read(8))\n",
    "\n",
    "train_imgs = np.fromfile(train_img_f,dtype=np.uint8).reshape(-1,28*28)\n",
    "train_labs = np.fromfile(train_lab_f,dtype=np.uint8)\n",
    "test_imgs = np.fromfile(test_img_f,dtype=np.uint8).reshape(-1,28*28)\n",
    "test_labs = np.fromfile(test_lab_f,dtype=np.uint8)\n",
    "print(test_labs)\n"
   ]
  },
  {
   "cell_type": "code",
   "execution_count": 4,
   "metadata": {},
   "outputs": [],
   "source": [
    "######## 定义sigmond函数\n",
    "def sigmond(x):\n",
    "    return 1/(1+np.exp(-np.abs(x)))"
   ]
  },
  {
   "cell_type": "code",
   "execution_count": null,
   "metadata": {},
   "outputs": [],
   "source": [
    "w1 = np.loadtxt(\"init_w1.txt\",delimiter=',')\n",
    "w2 = np.loadtxt(\"init_w2.txt\",delimiter=',')"
   ]
  },
  {
   "cell_type": "code",
   "execution_count": null,
   "metadata": {},
   "outputs": [],
   "source": [
    "for i in range(len(test_imgs)):\n",
    "    x = test_imgs[9].reshape(1,-1) / 500\n",
    "    x = np.insert(x,0,1,axis=1)\n",
    "    hid_input = np.matmul(x,w1)\n",
    "    hid_output = sigmond(hid_input)\n",
    "    hid_output = np.insert(hid_output,0,1,axis=1)\n",
    "    hpfs_input = np.matmul(hid_output,w2)\n",
    "    hpfs_output = sigmond(hpfs_input)\n",
    "    print(test_labs[i])\n",
    "    print(hpfs_output.reshape(-1,1))\n",
    "    break"
   ]
  }
 ],
 "metadata": {
  "kernelspec": {
   "display_name": "Python 3",
   "language": "python",
   "name": "python3"
  },
  "language_info": {
   "codemirror_mode": {
    "name": "ipython",
    "version": 3
   },
   "file_extension": ".py",
   "mimetype": "text/x-python",
   "name": "python",
   "nbconvert_exporter": "python",
   "pygments_lexer": "ipython3",
   "version": "3.7.4"
  }
 },
 "nbformat": 4,
 "nbformat_minor": 2
}
