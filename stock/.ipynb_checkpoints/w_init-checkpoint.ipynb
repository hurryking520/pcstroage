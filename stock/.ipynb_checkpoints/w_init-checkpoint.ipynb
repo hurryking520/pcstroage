{
 "cells": [
  {
   "cell_type": "code",
   "execution_count": 1,
   "metadata": {},
   "outputs": [],
   "source": [
    "import numpy as np"
   ]
  },
  {
   "cell_type": "code",
   "execution_count": 3,
   "metadata": {},
   "outputs": [],
   "source": [
    "#w1 = 2*(0.5- np.random.normal(size=(785,800)).reshape(785,800))\n",
    "#w2 = 2*(0.5 - np.random.normal(size=(801,10)).reshape(801,10))\n",
    "w1 = 2*(0.5 - np.random.rand(67*100).reshape(67,100))\n",
    "w2 = 2*(0.5 - np.random.rand(101*1).reshape(101,1))\n",
    "np.savetxt(\"init_w1.txt\",w1,delimiter=',')\n",
    "np.savetxt(\"init_w2.txt\",w2,delimiter=',')"
   ]
  },
  {
   "cell_type": "code",
   "execution_count": null,
   "metadata": {},
   "outputs": [],
   "source": []
  }
 ],
 "metadata": {
  "kernelspec": {
   "display_name": "Python 3",
   "language": "python",
   "name": "python3"
  },
  "language_info": {
   "codemirror_mode": {
    "name": "ipython",
    "version": 3
   },
   "file_extension": ".py",
   "mimetype": "text/x-python",
   "name": "python",
   "nbconvert_exporter": "python",
   "pygments_lexer": "ipython3",
   "version": "3.7.4"
  }
 },
 "nbformat": 4,
 "nbformat_minor": 2
}
