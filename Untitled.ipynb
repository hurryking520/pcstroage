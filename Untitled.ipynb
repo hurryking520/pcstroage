{
 "cells": [
  {
   "cell_type": "code",
   "execution_count": 1,
   "metadata": {},
   "outputs": [],
   "source": [
    "import numpy as np"
   ]
  },
  {
   "cell_type": "code",
   "execution_count": 2,
   "metadata": {},
   "outputs": [
    {
     "data": {
      "text/plain": [
       "10"
      ]
     },
     "execution_count": 2,
     "metadata": {},
     "output_type": "execute_result"
    }
   ],
   "source": [
    "a = np.random.rand(10*20).reshape(10,20)\n",
    "a.shape[0]"
   ]
  },
  {
   "cell_type": "code",
   "execution_count": 3,
   "metadata": {},
   "outputs": [],
   "source": [
    "\n",
    "w1 = 2*(0.5- np.random.normal(size=(785,800)).reshape(785,800))\n",
    "w2 = 2*(0.5 - np.random.normal(size=(801,10)).reshape(801,10))\n",
    "np.savetxt(\"init_w1.txt\",w1,delimiter=',')\n",
    "np.savetxt(\"init_w2.txt\",w2,delimiter=',')\n"
   ]
  },
  {
   "cell_type": "code",
   "execution_count": 8,
   "metadata": {},
   "outputs": [],
   "source": [
    "w1 = np.loadtxt(\"init_w1.txt\",delimiter=',')\n",
    "w2 = np.loadtxt(\"init_w2.txt\",delimiter=',')"
   ]
  },
  {
   "cell_type": "code",
   "execution_count": 27,
   "metadata": {},
   "outputs": [
    {
     "name": "stdout",
     "output_type": "stream",
     "text": [
      "[[ 1.27996434  0.23771991  1.77618512  1.3095337   0.0976464 ]\n",
      " [-0.83517311  0.91251606  0.36739664 -0.49494848 -0.49716823]\n",
      " [ 0.46955017 -0.69315637  0.85860627  0.9904303  -0.68650126]\n",
      " [ 0.46595956  0.92516439  0.55669521 -0.05370726 -0.48864715]\n",
      " [-0.08930015 -0.87362249 -0.31380524 -0.07372236  0.32780344]\n",
      " [-0.18023872  0.47715318  0.01605409  0.89100397 -0.72248405]\n",
      " [-0.36267662  0.88344241 -0.33940154  0.91515005  0.51790715]\n",
      " [-0.26554887 -0.94811001 -0.73581448 -0.24309192 -0.5490556 ]\n",
      " [-0.64587712 -0.71963241  0.58826746 -0.40431848 -0.25107116]\n",
      " [-0.5675462   0.39244837  0.73048816  0.23107109  0.73654158]]\n",
      "[[-26.32272437 -24.54673017 -24.81527828 -25.03190149 -25.95697964]\n",
      " [-25.09100099 -25.70919639 -25.73180472 -24.71752041 -25.54491374]\n",
      " [-25.49982838 -24.76225976 -25.09676491 -25.5755201  -25.31211323]\n",
      " [-26.29146497 -25.751002   -25.33077249 -24.31484668 -25.63492944]\n",
      " [-25.88856267 -25.62664634 -24.82571637 -26.05909804 -25.50565704]\n",
      " [-24.68159153 -25.00042021 -24.66782426 -25.82189648 -24.50419991]\n",
      " [-24.99610881 -24.91059354 -24.81748025 -25.67123611 -25.5446194 ]\n",
      " [-24.88269824 -24.4496601  -24.99789568 -25.99785128 -25.63281835]\n",
      " [-24.37854379 -24.5013954  -25.27331277 -25.50624378 -24.38624587]\n",
      " [-24.88793096 -24.82595619 -24.35291318 -25.76805696 -25.73984909]]\n"
     ]
    }
   ],
   "source": [
    "print(w1[0:10,0:5])\n",
    "print(w2[0:10,0:5])"
   ]
  },
  {
   "cell_type": "code",
   "execution_count": 29,
   "metadata": {},
   "outputs": [],
   "source": [
    "#w1 = 2*(0.5- np.random.rand(785*800).reshape(785,800))\n",
    "#w2 = 2*(0.5 - np.random.rand(801*10).reshape(801,10))\n",
    "#np.savetxt(\"init_w1.txt\",w1,delimiter=',')\n",
    "#np.savetxt(\"init_w2.txt\",w2,delimiter=',')"
   ]
  },
  {
   "cell_type": "code",
   "execution_count": null,
   "metadata": {},
   "outputs": [],
   "source": []
  }
 ],
 "metadata": {
  "kernelspec": {
   "display_name": "Python 3",
   "language": "python",
   "name": "python3"
  },
  "language_info": {
   "codemirror_mode": {
    "name": "ipython",
    "version": 3
   },
   "file_extension": ".py",
   "mimetype": "text/x-python",
   "name": "python",
   "nbconvert_exporter": "python",
   "pygments_lexer": "ipython3",
   "version": "3.7.4"
  }
 },
 "nbformat": 4,
 "nbformat_minor": 2
}
