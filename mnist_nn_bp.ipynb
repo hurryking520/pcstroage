{
 "cells": [
  {
   "cell_type": "code",
   "execution_count": 15,
   "metadata": {},
   "outputs": [],
   "source": [
    "import numpy as np\n",
    "import matplotlib.pyplot  as plt\n",
    "from pathlib import Path\n",
    "import struct"
   ]
  },
  {
   "cell_type": "code",
   "execution_count": 16,
   "metadata": {},
   "outputs": [],
   "source": [
    "train_img_path = \"image\\\\train-images.idx3-ubyte\"\n",
    "train_lab_path = 'image\\\\train-labels.idx1-ubyte'\n",
    "test_img_path = \"image\\\\t10k-images.idx3-ubyte\"\n",
    "test_lab_path = 'image\\\\t10k-labels.idx1-ubyte'\n",
    "\n",
    "\n",
    "train_img_f = open(train_img_path,'rb')\n",
    "train_lab_f = open(train_lab_path,'rb')\n",
    "test_img_f = open(test_img_path,'rb')\n",
    "test_lab_f = open(test_lab_path,'rb')"
   ]
  },
  {
   "cell_type": "code",
   "execution_count": 17,
   "metadata": {},
   "outputs": [
    {
     "name": "stdout",
     "output_type": "stream",
     "text": [
      "[7 2 1 ... 4 5 6]\n"
     ]
    }
   ],
   "source": [
    "struct.unpack('>4i',train_img_f.read(16))\n",
    "struct.unpack('>ii',train_lab_f.read(8))\n",
    "struct.unpack('>4i',test_img_f.read(16))\n",
    "struct.unpack('>ii',test_lab_f.read(8))\n",
    "\n",
    "train_imgs = np.fromfile(train_img_f,dtype=np.uint8).reshape(-1,28*28)\n",
    "train_labs = np.fromfile(train_lab_f,dtype=np.uint8)\n",
    "test_imgs = np.fromfile(test_img_f,dtype=np.uint8).reshape(-1,28*28)\n",
    "test_labs = np.fromfile(test_lab_f,dtype=np.uint8)\n",
    "print(test_labs)"
   ]
  },
  {
   "cell_type": "code",
   "execution_count": 18,
   "metadata": {},
   "outputs": [
    {
     "name": "stdout",
     "output_type": "stream",
     "text": [
      "(60000, 10)\n",
      "[[0. 0. 0. 0. 0. 1. 0. 0. 0. 0.]\n",
      " [1. 0. 0. 0. 0. 0. 0. 0. 0. 0.]\n",
      " [0. 0. 0. 0. 1. 0. 0. 0. 0. 0.]\n",
      " [0. 1. 0. 0. 0. 0. 0. 0. 0. 0.]\n",
      " [0. 0. 0. 0. 0. 0. 0. 0. 0. 1.]\n",
      " [0. 0. 1. 0. 0. 0. 0. 0. 0. 0.]\n",
      " [0. 1. 0. 0. 0. 0. 0. 0. 0. 0.]\n",
      " [0. 0. 0. 1. 0. 0. 0. 0. 0. 0.]\n",
      " [0. 1. 0. 0. 0. 0. 0. 0. 0. 0.]\n",
      " [0. 0. 0. 0. 1. 0. 0. 0. 0. 0.]]\n"
     ]
    }
   ],
   "source": [
    "############整理train_labs，使其变成 60000*10#################\n",
    "y = np.zeros((60000,10))\n",
    "for i in range(y.shape[0]):\n",
    "    y[i][train_labs[i]]=1\n",
    "print(y.shape)\n",
    "print(y[0:10,:])"
   ]
  },
  {
   "cell_type": "code",
   "execution_count": 19,
   "metadata": {},
   "outputs": [],
   "source": [
    "def sigmond(x):\n",
    "    return 1/(1+np.exp(-np.abs(x)))\n",
    "\n",
    "def reLu(x):\n",
    "    return (np.abs(x)+x) / 2.0\n",
    "\n",
    "def d_reLu(x):\n",
    "    x[x<=0] = 0\n",
    "    x[x>1] = 1\n",
    "    return x\n",
    "\n",
    "def softmax(x):\n",
    "    x_row_max = x.max(axis=1).reshape(x.shape[0],1)\n",
    "    x = x - x_row_max\n",
    "    x_exp = np.exp(x)\n",
    "    x_row_exp_sum = x_exp.sum(axis=1).reshape(x.shape[0],1)\n",
    "    x_softmax = x_exp / x_row_exp_sum\n",
    "    return x_softmax\n",
    "\n",
    "def softmax_vector(x):\n",
    "    x_exp = np.exp(x-x.max())\n",
    "    return x_exp / x_exp.sum()"
   ]
  },
  {
   "cell_type": "code",
   "execution_count": 20,
   "metadata": {},
   "outputs": [],
   "source": [
    "def J(hy,y):\n",
    "   return - np.sum(y*np.log(hy) + (1-y)*np.log(1-y)) / 60000\n",
    "\n",
    "def J_softmax(h,y):\n",
    "    b = y*np.log(h)\n",
    "    return b.sum() / 60000"
   ]
  },
  {
   "cell_type": "code",
   "execution_count": 21,
   "metadata": {},
   "outputs": [
    {
     "name": "stdout",
     "output_type": "stream",
     "text": [
      "(785, 800)\n",
      "(801, 10)\n"
     ]
    }
   ],
   "source": [
    "#################读取w1 与w2##################################\n",
    "w1 = np.loadtxt(\"init_w1.txt\",delimiter=',')\n",
    "w2 = np.loadtxt(\"init_w2.txt\",delimiter=',')\n",
    "#################根据文件内容，初始化w1与w2#####################\n",
    "\n",
    "######### 设置学习率 \n",
    "n = 0.1\n",
    "#print(w2[0:10,:])\n",
    "print(w1[0:10,0:5])\n",
    "print(w2[0:10,0:5])"
   ]
  },
  {
   "cell_type": "code",
   "execution_count": 22,
   "metadata": {},
   "outputs": [
    {
     "data": {
      "text/plain": [
       "255"
      ]
     },
     "execution_count": 22,
     "metadata": {},
     "output_type": "execute_result"
    }
   ],
   "source": [
    "train_imgs.max()"
   ]
  },
  {
   "cell_type": "code",
   "execution_count": 23,
   "metadata": {
    "scrolled": true
   },
   "outputs": [
    {
     "name": "stdout",
     "output_type": "stream",
     "text": [
      "J =  -120.81201951153574\n",
      "[[1.00000000e+000 3.66275144e-048 4.14882046e-047 1.64601839e-104\n",
      "  2.21850093e-045 3.23186851e-032 1.93788314e-025 4.21118188e-073\n",
      "  8.01051249e-081 1.31643951e-070]]\n",
      "-----------------count  0 ------------------\n",
      "J =  -50.32004989186526\n",
      "[[4.13959047e-23 3.29680534e-04 9.99670319e-01 1.19500197e-56\n",
      "  1.72818330e-26 3.91019551e-21 5.54381398e-13 7.47808113e-25\n",
      "  8.97217746e-34 2.83616623e-23]]\n",
      "-----------------count  5 ------------------\n",
      "J =  -30.56331569848179\n",
      "[[3.93203426e-01 9.47240791e-11 1.61590922e-09 3.65559823e-30\n",
      "  6.05444658e-01 4.29192731e-27 6.68255731e-22 7.06027979e-27\n",
      "  4.23439433e-08 1.35187259e-03]]\n",
      "-----------------count  10 ------------------\n",
      "J =  -22.121491119161732\n",
      "[[1.08129852e-01 8.79296045e-20 3.22729021e-20 1.37225834e-08\n",
      "  2.86535132e-01 1.40896321e-07 6.05270035e-01 6.48263230e-05\n",
      "  1.07616991e-19 2.21264979e-17]]\n",
      "-----------------count  15 ------------------\n",
      "J =  -17.951337713670046\n",
      "[[2.12826211e-18 5.09888061e-06 2.54213903e-01 4.10127920e-03\n",
      "  3.56758509e-01 5.48511051e-11 3.52911560e-03 1.89371002e-14\n",
      "  3.81392094e-01 1.29144587e-25]]\n",
      "-----------------count  20 ------------------\n",
      "J =  -24.674885415930557\n",
      "[[4.15454080e-04 3.19696191e-24 6.04032893e-30 4.77945670e-09\n",
      "  3.55094318e-02 5.17558594e-27 4.76841185e-03 1.21802131e-02\n",
      "  9.47126484e-01 2.99921976e-11]]\n",
      "-----------------count  25 ------------------\n",
      "J =  -27.28756827874134\n",
      "[[4.13260084e-24 5.63806926e-06 5.68470518e-14 1.10389569e-08\n",
      "  1.76216587e-11 1.35172756e-12 9.99988979e-01 5.37157314e-06\n",
      "  4.92502070e-18 1.31854620e-25]]\n",
      "-----------------count  30 ------------------\n",
      "J =  -30.264815517691584\n",
      "[[3.71004645e-08 9.16681142e-11 2.25002268e-19 6.60219654e-27\n",
      "  7.10052632e-30 4.31154634e-12 1.41923158e-19 9.72758300e-01\n",
      "  2.72416611e-02 1.40806109e-09]]\n",
      "-----------------count  35 ------------------\n",
      "J =  -35.27139746181326\n",
      "[[6.95732315e-26 3.79825729e-24 2.87765879e-04 2.67971113e-11\n",
      "  4.18700466e-15 3.52891827e-33 1.38984373e-04 1.39793600e-18\n",
      "  3.14643605e-23 9.99573250e-01]]\n",
      "-----------------count  40 ------------------\n",
      "J =  -26.4577255200431\n",
      "[[7.59641722e-05 9.78635839e-01 6.55389074e-07 1.93077365e-24\n",
      "  1.43029245e-18 1.35068127e-13 4.68480949e-05 2.21396291e-31\n",
      "  2.12406932e-02 2.19387053e-14]]\n",
      "-----------------count  45 ------------------\n"
     ]
    },
    {
     "ename": "KeyboardInterrupt",
     "evalue": "",
     "output_type": "error",
     "traceback": [
      "\u001b[1;31m---------------------------------------------------------------------------\u001b[0m",
      "\u001b[1;31mKeyboardInterrupt\u001b[0m                         Traceback (most recent call last)",
      "\u001b[1;32m<ipython-input-23-5084a66f9393>\u001b[0m in \u001b[0;36m<module>\u001b[1;34m\u001b[0m\n\u001b[0;32m     61\u001b[0m     \u001b[0md_cost_hid_out\u001b[0m \u001b[1;33m=\u001b[0m \u001b[0mnp\u001b[0m\u001b[1;33m.\u001b[0m\u001b[0mmatmul\u001b[0m\u001b[1;33m(\u001b[0m\u001b[0md_cost_hyfs_input\u001b[0m\u001b[1;33m,\u001b[0m\u001b[0mw2\u001b[0m\u001b[1;33m.\u001b[0m\u001b[0mT\u001b[0m\u001b[1;33m)\u001b[0m   \u001b[1;31m### shape is m*801\u001b[0m\u001b[1;33m\u001b[0m\u001b[1;33m\u001b[0m\u001b[0m\n\u001b[0;32m     62\u001b[0m     \u001b[1;31m#print(d_cost_hid_out.shape)\u001b[0m\u001b[1;33m\u001b[0m\u001b[1;33m\u001b[0m\u001b[1;33m\u001b[0m\u001b[0m\n\u001b[1;32m---> 63\u001b[1;33m     \u001b[0md_cost_hid_input\u001b[0m \u001b[1;33m=\u001b[0m \u001b[0md_cost_hid_out\u001b[0m\u001b[1;33m*\u001b[0m\u001b[0mhid_output\u001b[0m\u001b[1;33m*\u001b[0m\u001b[1;33m(\u001b[0m\u001b[1;36m1\u001b[0m\u001b[1;33m-\u001b[0m\u001b[0mhid_output\u001b[0m\u001b[1;33m)\u001b[0m \u001b[1;31m###隐藏层输入为sigmond的情况下 shape = 60000*801\u001b[0m\u001b[1;33m\u001b[0m\u001b[1;33m\u001b[0m\u001b[0m\n\u001b[0m\u001b[0;32m     64\u001b[0m     \u001b[1;31m#d_cost_hid_input = d_cost_hid_out*d_reLu(hid_output) ### shape is m*801\u001b[0m\u001b[1;33m\u001b[0m\u001b[1;33m\u001b[0m\u001b[1;33m\u001b[0m\u001b[0m\n\u001b[0;32m     65\u001b[0m     \u001b[1;31m#print(d_cost_hid_input.shape)\u001b[0m\u001b[1;33m\u001b[0m\u001b[1;33m\u001b[0m\u001b[1;33m\u001b[0m\u001b[0m\n",
      "\u001b[1;31mKeyboardInterrupt\u001b[0m: "
     ]
    }
   ],
   "source": [
    "#####################开始训练传播##################\n",
    "for i in range(1000):\n",
    "    x = train_imgs - 255\n",
    "    ######## x.shape = 60000*784 ############\n",
    "    x = np.insert(x,0,1,axis=1)\n",
    "    ######## x.shape = 60000*785  ############\n",
    "    \n",
    "    ############ 隐藏层输入 ############\n",
    "    hid_input = np.matmul(x,w1)\n",
    "    ######## hid_input.shape = 60000*785 ############\n",
    "    \n",
    "    ############ 隐藏层输出 ############\n",
    "    hid_output = sigmond(hid_input)\n",
    "    ######## hid_output.shape = 60000*392 ############\n",
    "    \n",
    "    ######## 为隐藏层增加偏执项 ############\n",
    "    hid_output = np.insert(hid_output,0,1,axis=1)\n",
    "    ######## hid_output.shape = 60000*393 ############\n",
    "    \n",
    "    ############ 最后一层的输入 ############\n",
    "    hpfs_input = np.matmul(hid_output,w2)\n",
    "    ######## hpfs_input.shape = 60000*10 ############\n",
    "    \n",
    "     ############ 最后一层的输出，即正向传播的输出值 ############\n",
    "    hpfs_output = softmax(hpfs_input)\n",
    "    #print(hpfs_output.shape)\n",
    "    ######## hpfs_output.shape = 60000*10 ############\n",
    "    ############ 完成正向传播 ############\n",
    "    \n",
    "    \"\"\" \n",
    "    ####################### 下面是 用reLu 和 sigmond 的情况 ###########################\n",
    "    ############ w2的权重误差计算 #######################\n",
    "    d_cost_hyfs_input = hpfs_output - y\n",
    "    d_cost_w2 = np.matmul(hid_output.T,d_cost_hyfs_input) / 60000\n",
    "    #print(d_cost_w2.shape)\n",
    "    #print(d_cost_w2[100:220,:])\n",
    "    ######## d_cost_w2.shape = 393*10 ############\n",
    "    \n",
    "    ############ w1的权重误差计算 #######################\n",
    "    ############ d_cost_w1 = {[(h-y)·w2] * hid_out*(1-hid_out)}·x #####################\n",
    "    ############ d_cost_hid_out = (h-y)·w2  shape=m*393 #####################\n",
    "    ############ 在使用 reLu的情况下， d_cost_hid\n",
    "    d_cost_hid_out = np.matmul(d_cost_hyfs_input,w2.T)\n",
    "    #d_cost_hid_input = d_cost_hid_out*hid_output*(1-hid_output) ###隐藏层输入为sigmond的情况下 shape = 60000*393\n",
    "    d_cost_hid_input = d_cost_hid_out*d_reLu(hid_output)         ####隐藏层输入为reLu的情况下 shape = 60000*393\n",
    "    #print(d_cost_hid_input.shape)\n",
    "    d_cost_hid_input = np.delete(d_cost_hid_input,0,axis=1)\n",
    "    #print(d_cost_hid_input.shape)###### shape = 60000*392\n",
    "    d_cost_w1 = np.matmul(x.T,d_cost_hid_input) / 60000\n",
    "    ######## d_cost_w1.shape = 785*393 ############\n",
    "    #print(d_cost_w1.shape)\n",
    "    #print(d_cost_w1[0:20,:])\n",
    "    ####################### 下面是 用reLu 和 sigmond 的情况 ###########################\n",
    "    \"\"\"\n",
    "    \n",
    "    ####################### 下面是 用reLu 和 softmax 的情况 ###########################\n",
    "    ####### dL/dwij = (h_outj -yj)*ai\n",
    "    d_cost_hyfs_input = hpfs_output - y\n",
    "    d_cost_w2 = np.matmul(hid_output.T,d_cost_hyfs_input) / 60000  ##shape is 801*10\n",
    "    #print(d_cost_w2.shape)\n",
    "    d_cost_hid_out = np.matmul(d_cost_hyfs_input,w2.T)   ### shape is m*801\n",
    "    #print(d_cost_hid_out.shape)\n",
    "    d_cost_hid_input = d_cost_hid_out*hid_output*(1-hid_output) ###隐藏层输入为sigmond的情况下 shape = 60000*801\n",
    "    #d_cost_hid_input = d_cost_hid_out*d_reLu(hid_output) ### shape is m*801\n",
    "    #print(d_cost_hid_input.shape)\n",
    "    d_cost_hid_input = np.delete(d_cost_hid_input,0,axis=1) ### shape is m*800\n",
    "    #print(d_cost_hid_input.shape)\n",
    "    d_cost_w1 = np.matmul(x.T,d_cost_hid_input) / 60000\n",
    "    #print(d_cost_w1.shape)\n",
    "    \n",
    "    \n",
    "    ####################### 下面是 用reLu 和 softmax 的情况 ###########################\n",
    "    \n",
    "    \n",
    "    ######################## 上面代码完成反向传播计算 #########################\n",
    "    ###########更新权重###################\n",
    "    w1 = w1 - n*d_cost_w1\n",
    "    w2 = w2 - n*d_cost_w2\n",
    "    np.savetxt(\"init_w1.txt\",w1,delimiter=',')\n",
    "    np.savetxt(\"init_w2.txt\",w2,delimiter=',')\n",
    "    \n",
    "    if (i % 5 == 0) :\n",
    "        print(\"J = \",J_softmax(hpfs_output,y))\n",
    "        print(hpfs_output[0:1,:])\n",
    "        print(\"-----------------count \",i,\"------------------\")\n",
    "    #print(\"-----------------count \",i,\"------------------\")\n",
    "    "
   ]
  },
  {
   "cell_type": "code",
   "execution_count": 24,
   "metadata": {},
   "outputs": [
    {
     "name": "stdout",
     "output_type": "stream",
     "text": [
      "[[ 2.0908031  -0.03497779  3.64747814  2.1620542   0.19115367]\n",
      " [ 5.39666909  2.20596339 -2.75735997 -3.53002294  4.48736549]\n",
      " [ 2.88364245 -1.11049409  0.5470988   0.27539439  0.75385683]\n",
      " [-0.02236639  5.02631935  2.55262051  1.4060176   3.04603146]\n",
      " [-0.81975067  1.5868249   2.93002361  3.08238602 -0.57908652]\n",
      " [ 0.68481143  3.3779914   0.42109234 -0.21111829  1.03791403]\n",
      " [ 0.25351065  1.52636776  1.61062286  1.5458509   0.93691049]\n",
      " [ 2.91639746  3.59104517  6.23094289  2.13252639  2.59516306]\n",
      " [ 1.02614914  1.6984495   1.17329824  4.4166868  -4.07072622]\n",
      " [-2.06097082  2.73021364  3.90149049  0.73267352  1.95291059]]\n",
      "[[-0.87350583  4.7756266   1.45660755  2.88027557  2.92056905]\n",
      " [ 3.29652349  1.82620259  0.29785105 -1.29956161  7.19833575]\n",
      " [ 2.9279532  -1.16479127 -0.81206219  1.48064105 -0.17223832]\n",
      " [ 1.11501254  0.42214961 -0.76819387  0.96081547  1.25056957]\n",
      " [ 5.22635844  3.49500883  1.30380087  1.35459019 -0.82949625]\n",
      " [ 0.94181011  1.51945949  2.28334858 -2.21658671  0.60980781]\n",
      " [ 1.41194119  3.67085188  1.46216311 -0.25005464  0.35375602]\n",
      " [ 0.65380527 -1.12479332 -0.49673139  0.11405231 -2.59647289]\n",
      " [ 1.90526376  2.55536764 -1.83377069  1.36755072 -2.80781166]\n",
      " [ 0.02073058 -1.59271191  1.78646234  1.55878588  1.1214946 ]]\n"
     ]
    }
   ],
   "source": [
    "print(w1[0:10,0:5])\n",
    "print(w2[0:10,0:5])"
   ]
  },
  {
   "cell_type": "code",
   "execution_count": 25,
   "metadata": {},
   "outputs": [
    {
     "name": "stdout",
     "output_type": "stream",
     "text": [
      "(1, 784)\n"
     ]
    }
   ],
   "source": [
    "print(test_imgs[0].reshape(1,-1).shape)"
   ]
  },
  {
   "cell_type": "code",
   "execution_count": 28,
   "metadata": {},
   "outputs": [
    {
     "name": "stdout",
     "output_type": "stream",
     "text": [
      "1\n",
      "[[2.07280512e-02]\n",
      " [7.24841330e-32]\n",
      " [1.88521559e-04]\n",
      " [6.99710626e-22]\n",
      " [3.52415195e-16]\n",
      " [1.89711632e-11]\n",
      " [1.27278641e-02]\n",
      " [9.59506747e-29]\n",
      " [9.66355563e-01]\n",
      " [6.23558650e-12]]\n"
     ]
    }
   ],
   "source": [
    "############################# 测试 ######################\n",
    "\n",
    "\n",
    "for i in range(len(test_imgs)):\n",
    "    x = test_imgs[2].reshape(1,-1) -255\n",
    "    x = np.insert(x,0,1,axis=1)\n",
    "    #print(x[0:10,:])\n",
    "    hid_input = np.matmul(x,w1)\n",
    "    hid_output = sigmond(hid_input)\n",
    "    hid_output = np.insert(hid_output,0,1,axis=1)\n",
    "    hpfs_input = np.matmul(hid_output,w2)\n",
    "    hpfs_output = softmax_vector(hpfs_input)\n",
    "    print(test_labs[2])\n",
    "    print(hpfs_output.reshape(-1,1))\n",
    "    break"
   ]
  },
  {
   "cell_type": "code",
   "execution_count": null,
   "metadata": {},
   "outputs": [],
   "source": []
  }
 ],
 "metadata": {
  "kernelspec": {
   "display_name": "Python 3",
   "language": "python",
   "name": "python3"
  },
  "language_info": {
   "codemirror_mode": {
    "name": "ipython",
    "version": 3
   },
   "file_extension": ".py",
   "mimetype": "text/x-python",
   "name": "python",
   "nbconvert_exporter": "python",
   "pygments_lexer": "ipython3",
   "version": "3.7.4"
  }
 },
 "nbformat": 4,
 "nbformat_minor": 2
}
